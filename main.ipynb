{
 "cells": [
  {
   "cell_type": "markdown",
   "metadata": {},
   "source": [
    "# Neuron Simulator\n",
    "\n",
    "**University of Pavia**\n",
    "\n",
    "*Brain Modelling*\n",
    "\n",
    "**Michele Ventimiglia**"
   ]
  },
  {
   "cell_type": "markdown",
   "metadata": {},
   "source": [
    "---"
   ]
  },
  {
   "cell_type": "markdown",
   "metadata": {},
   "source": [
    "## Setup"
   ]
  },
  {
   "cell_type": "markdown",
   "metadata": {},
   "source": [
    "Install required libraries:"
   ]
  },
  {
   "cell_type": "code",
   "execution_count": null,
   "metadata": {},
   "outputs": [
    {
     "name": "stdout",
     "output_type": "stream",
     "text": [
      "Note: you may need to restart the kernel to use updated packages.\n"
     ]
    },
    {
     "name": "stderr",
     "output_type": "stream",
     "text": [
      "ERROR: Could not open requirements file: [Errno 2] No such file or directory: '-q'\n"
     ]
    }
   ],
   "source": [
    "%pip install -q -r requirements.txt"
   ]
  },
  {
   "cell_type": "markdown",
   "metadata": {},
   "source": [
    "Libraries import:"
   ]
  },
  {
   "cell_type": "code",
   "execution_count": 14,
   "metadata": {},
   "outputs": [],
   "source": [
    "import sys\n",
    "from typing import Tuple, Dict, List\n",
    "\n",
    "import scipy\n",
    "import numpy as np\n",
    "import matplotlib.pyplot as plt\n",
    "from scipy.integrate import odeint\n",
    "from ipywidgets import interact, FloatSlider, Button"
   ]
  },
  {
   "cell_type": "markdown",
   "metadata": {},
   "source": [
    "Versions info:"
   ]
  },
  {
   "cell_type": "code",
   "execution_count": 15,
   "metadata": {},
   "outputs": [
    {
     "name": "stdout",
     "output_type": "stream",
     "text": [
      "Python Version:\t3.12.10\n",
      "NumPy Version:\t2.2.6\n",
      "SciPy Version:\t1.15.3\n"
     ]
    }
   ],
   "source": [
    "print(f\"Python Version:\\t{sys.version.split()[0]}\")\n",
    "print(f\"NumPy Version:\\t{np.__version__}\")\n",
    "print(f\"SciPy Version:\\t{scipy.__version__}\")"
   ]
  },
  {
   "cell_type": "markdown",
   "metadata": {},
   "source": [
    "---"
   ]
  },
  {
   "cell_type": "markdown",
   "metadata": {},
   "source": [
    "## Model"
   ]
  },
  {
   "cell_type": "markdown",
   "metadata": {},
   "source": [
    "Implement the Morris-Lecar model to calculate the time evolution of membrane potential (V) and gating variable (w) in a neuron based on differential equations.\n",
    "\n",
    "The Morris-Lecar model is a simplified model of neuronal activity that describes how the membrane potential evolves over time in response to external currents and the neuron's own ion channels."
   ]
  },
  {
   "cell_type": "code",
   "execution_count": 16,
   "metadata": {},
   "outputs": [],
   "source": [
    "def morris_lecar(\n",
    "        V_w: Tuple[float, float],\n",
    "        t: float,\n",
    "        params: Dict[str, float]\n",
    "    ) -> Tuple[float, float]:\n",
    "    \"\"\"\n",
    "    Morris-Lecar model equations to compute the time evolution of membrane potential (V) and gating variable (w).\\n\n",
    "    ---\n",
    "    ### Args\n",
    "    - `V_w` (`Tuple[float, float]`): a tuple containing the current membrane potential (V) and the gating variable (w).\n",
    "    - `t` (`float`): the current time point (not used in the equations but required by odeint).\n",
    "    - `params` (`Dict[str, float`]): a dictionary containing the model parameters such as `I_ext`, `g_Ca`, `g_K`, `g_L`, `C`, `V_Ca`, `V_K`, `V_L`, `V1`, `V2`, `V3`, `V4`, and `phi`.\\n\n",
    "    ---\n",
    "    ### Returns\n",
    "    - `Tuple[float, float]`: a tuple containing the derivatives of the membrane potential (dV/dt) and the gating variable (dw/dt).\n",
    "    \"\"\"\n",
    "    \n",
    "    V, w = V_w # Unpack the membrane potential and gating variable\n",
    "    I_ext = params['I_ext']\n",
    "    \n",
    "    # Calculate the steady-state activation and time constant for the gating variable\n",
    "    m_inf = 0.5 * (1.0 + np.tanh((V - params['V1']) / params['V2']))\n",
    "    w_inf = 0.5 * (1.0 + np.tanh((V - params['V3']) / params['V4']))\n",
    "    tau_w = 1 / (params['phi'] * np.cosh((V - params['V3']) / (2 * params['V4'])))\n",
    "    \n",
    "    # Calculate the derivatives of V and w using the Morris-Lecar equations\n",
    "    dV_dt = (I_ext - params['g_Ca'] * m_inf * (V - params['V_Ca']) - params['g_K'] * w * (V - params['V_K']) - params['g_L'] * (V - params['V_L'])) / params['C']\n",
    "    dw_dt = params['phi'] * (w_inf - w) / tau_w\n",
    "    \n",
    "    return [dV_dt, dw_dt]"
   ]
  },
  {
   "cell_type": "markdown",
   "metadata": {},
   "source": [
    "### Parameters"
   ]
  },
  {
   "cell_type": "code",
   "execution_count": 17,
   "metadata": {},
   "outputs": [],
   "source": [
    "def default_parameters() -> dict:\n",
    "    \"\"\"\n",
    "    Default parameters and initial conditions for the Morris-Lecar model.\\n\n",
    "    ---\n",
    "    ### Returns\n",
    "    - `dict`: a dictionary containing the default parameters for the Morris-Lecar model.\n",
    "    \"\"\"\n",
    "    return {\n",
    "        \"C\": 20,            # Membrane capacitance, uF/cm^2\n",
    "        \"V_Ca\": 120,        # Reversal potential for calcium, mV\n",
    "        \"V_K\": -84,         # Reversal potential for potassium, mV\n",
    "        \"V_L\": -60,         # Reversal potential for leak channels, mV\n",
    "        \"g_Ca\": 4.4,        # Maximum conductance for calcium, mS/cm^2\n",
    "        \"g_K\": 8,           # Maximum conductance for potassium, mS/cm^2\n",
    "        \"g_L\": 2,           # Maximum conductance for leak, mS/cm^2\n",
    "        \"phi\": 0.04,        # Temperature coefficient\n",
    "        \"V1\": -1.2,         # Parameter for activation/inactivation\n",
    "        \"V2\": 18,           # Parameter for activation/inactivation\n",
    "        \"V3\": 2,            # Parameter for activation/inactivation\n",
    "        \"V4\": 30,           # Parameter for activation/inactivation\n",
    "        \"I_ext\": 0.1,       # External current, uA/cm^2\n",
    "        \"V0\": -70*(10**-3), # Initial membrane potential, V\n",
    "        \"w0\": 0.0           # Initial fraction of open potassium channels\n",
    "    }"
   ]
  },
  {
   "cell_type": "markdown",
   "metadata": {},
   "source": [
    "---"
   ]
  },
  {
   "cell_type": "markdown",
   "metadata": {},
   "source": [
    "## Processing"
   ]
  },
  {
   "cell_type": "markdown",
   "metadata": {},
   "source": [
    "Define the simulation function to compute the time evolution of the membrane potential (V) and gating variable (w) in a neuron based on the Morris-Lecar model."
   ]
  },
  {
   "cell_type": "code",
   "execution_count": 18,
   "metadata": {},
   "outputs": [],
   "source": [
    "def solve_model(I_ext: float) -> Tuple[np.ndarray, np.ndarray, np.ndarray]:\n",
    "    \"\"\"\n",
    "    Solve the Morris-Lecar model ODEs for a given external current (I_ext).\\n\n",
    "    ---\n",
    "    ### Args\n",
    "    - `I_ext` (`float`): the external current applied to the neuron, in uA/cm^2.\\n\n",
    "    ---\n",
    "    ### Returns\n",
    "    - `Tuple[np.ndarray, np.ndarray, np.ndarray]`: a tuple containing:\n",
    "        - `t` (`np.ndarray`): the time vector over which the ODEs are solved.\n",
    "        - `V` (`np.ndarray`): the membrane potential over time.\n",
    "        - `w` (`np.ndarray`): the gating variable over time.\n",
    "    \"\"\"\n",
    "    \n",
    "    # Define the time vector over which to solve the ODEs\n",
    "    t = np.linspace(0, 5000, 10000)\n",
    "    \n",
    "    # Retrieve default parameters and update them with the given values\n",
    "    params = default_parameters()\n",
    "    params.update({'I_ext': I_ext})\n",
    "    \n",
    "    # Define the initial conditions for the integration\n",
    "    initial_conditions = [params['V0'], params['w0']]\n",
    "    \n",
    "    # Solve the ODEs using scipy's odeint function\n",
    "    sol = odeint(morris_lecar, initial_conditions, t, args=(params,))\n",
    "    \n",
    "    # Return the time vector, membrane potential, and recovery variable\n",
    "    return t, sol[:, 0], sol[:, 1]"
   ]
  },
  {
   "cell_type": "markdown",
   "metadata": {},
   "source": [
    "Define the analyze data function to analyze the time evolution of the membrane potential (V) and gating variable (w) in a neuron based on the Morris-Lecar model."
   ]
  },
  {
   "cell_type": "code",
   "execution_count": 19,
   "metadata": {},
   "outputs": [],
   "source": [
    "def analyze_data(\n",
    "        V: np.ndarray,\n",
    "        w: np.ndarray,\n",
    "        t: np.ndarray\n",
    "    ) -> List[Dict[str, float]]:\n",
    "    \"\"\"\n",
    "    Analyze the data to find critical points where the membrane potential (V) crosses the gating variable (w).\\n\n",
    "    ---\n",
    "    ### Args\n",
    "    - `V` (`np.ndarray`): the membrane potential over time.\n",
    "    - `w` (`np.ndarray`): the gating variable over time.\n",
    "    - `t` (`np.ndarray`): the time vector corresponding to the V and w arrays.\\n\n",
    "    ---\n",
    "    ### Returns\n",
    "    - `List[Dict[str, float]]`: a list of dictionaries containing the critical points where the membrane potential crosses the gating variable, with each dictionary containing:\n",
    "        - `V` (`float`): the membrane potential at the crossing point.\n",
    "        - `w` (`float`): the gating variable at the crossing point.\n",
    "        - `t` (`float`): the time at which the crossing occurs.\n",
    "    \"\"\"\n",
    "    # Calculate differences between V and w to find where they cross\n",
    "    differences = V - w\n",
    "    \n",
    "    # Identifying the sign changes in differences, which indicate crossing points\n",
    "    sign_changes = np.diff(np.sign(differences)) != 0\n",
    "\n",
    "    # Getting the indices right before the crossing points\n",
    "    cross_indices = np.where(sign_changes)[0]\n",
    "    \n",
    "    # Collecting critical points (V, w, t) at crossing points\n",
    "    critical_points = [{'V': V[i], 'w': w[i], 't': t[i]} for i in cross_indices]\n",
    "\n",
    "    return critical_points"
   ]
  },
  {
   "cell_type": "markdown",
   "metadata": {},
   "source": [
    "---"
   ]
  },
  {
   "cell_type": "markdown",
   "metadata": {},
   "source": [
    "## Evaluation"
   ]
  },
  {
   "cell_type": "code",
   "execution_count": 20,
   "metadata": {},
   "outputs": [],
   "source": [
    "global current_plot_state"
   ]
  },
  {
   "cell_type": "markdown",
   "metadata": {},
   "source": [
    "Define the plotting function to visualize the time evolution of the membrane potential (V) and gating variable (w) in a neuron based on the Morris-Lecar model."
   ]
  },
  {
   "cell_type": "code",
   "execution_count": 25,
   "metadata": {},
   "outputs": [],
   "source": [
    "def save_plot(filename: str = 'plot') -> None:\n",
    "    \n",
    "    global current_plot_state\n",
    "    \n",
    "    if current_plot_state is None:\n",
    "        print(\"No plot to save.\")\n",
    "        return\n",
    "    \n",
    "    I_ext, V, w, t = current_plot_state\n",
    "    \n",
    "    filename = f\"{filename}_I_ext_{I_ext}.png\"\n",
    "    \n",
    "    plt.figure(figsize=(18, 6))\n",
    "\n",
    "    plt.subplot(1, 3, 1)\n",
    "    plt.plot(t, V)\n",
    "    plt.title('Membrane Potential Over Time')\n",
    "    plt.xlabel('Time (ms)')\n",
    "    plt.ylabel('Membrane Potential (mV)')\n",
    "    plt.grid()\n",
    "\n",
    "    plt.subplot(1, 3, 2)\n",
    "    plt.plot(V, w)\n",
    "    plt.title('Phase Plane')\n",
    "    plt.xlabel('Membrane Potential (mV)')\n",
    "    plt.ylabel('Recovery Variable (w)')\n",
    "    plt.grid()\n",
    "\n",
    "    plt.subplot(1, 3, 3)\n",
    "    plt.plot(t, w)\n",
    "    plt.title('Recovery Variable Over Time')\n",
    "    plt.xlabel('Time (ms)')\n",
    "    plt.ylabel('Recovery Variable (w)')\n",
    "    plt.grid()\n",
    "\n",
    "    plt.savefig(f\"images/{filename}\")\n",
    "    plt.close()\n",
    "    \n",
    "    print(f\"Plot saved as {filename}\")"
   ]
  },
  {
   "cell_type": "code",
   "execution_count": 26,
   "metadata": {},
   "outputs": [],
   "source": [
    "def interactive_plot(I_ext: float) -> None:\n",
    "    \n",
    "    global current_plot_state\n",
    "    \n",
    "    t, V, w = solve_model(I_ext)\n",
    "    critical_points = analyze_data(V, w, t)\n",
    "    \n",
    "    current_plot_state = I_ext, V, w, t\n",
    "    \n",
    "    # Plotting\n",
    "    plt.figure(figsize=(18, 6))\n",
    "\n",
    "    # Plot V(t)\n",
    "    plt.subplot(1, 3, 1)\n",
    "    plt.plot(t, V)\n",
    "    plt.title('Membrane Potential Over Time')\n",
    "    plt.xlabel('Time (ms)')\n",
    "    plt.ylabel('Membrane Potential (mV)')\n",
    "    plt.grid()\n",
    "\n",
    "    # Plot phase plane trajectory\n",
    "    plt.subplot(1, 3, 2)\n",
    "    plt.plot(V, w)\n",
    "    plt.title('Phase Plane')\n",
    "    plt.xlabel('Membrane Potential (mV)')\n",
    "    plt.ylabel('Recovery Variable (w)')\n",
    "    plt.grid()\n",
    "\n",
    "    # Plot w(t)\n",
    "    plt.subplot(1, 3, 3)\n",
    "    plt.plot(t, w)\n",
    "    plt.title('Recovery Variable Over Time')\n",
    "    plt.xlabel('Time (ms)')\n",
    "    plt.ylabel('Recovery Variable (w)')\n",
    "    plt.grid()\n",
    "    \n",
    "    plt.show()\n",
    "\n",
    "    # Print analysis results\n",
    "    for i, point in enumerate(critical_points):\n",
    "        if i != 0: # skip initial graphs value\n",
    "            print(f\"Critical point {i}: {point}\")\n"
   ]
  },
  {
   "cell_type": "markdown",
   "metadata": {},
   "source": [
    "Instantiate the simulation function with the parameters and initial conditions, then run the simulation:"
   ]
  },
  {
   "cell_type": "code",
   "execution_count": 27,
   "metadata": {},
   "outputs": [],
   "source": [
    "params = default_parameters()"
   ]
  },
  {
   "cell_type": "markdown",
   "metadata": {},
   "source": [
    "Interactive widgets to change parameters and visualize the results:"
   ]
  },
  {
   "cell_type": "code",
   "execution_count": 28,
   "metadata": {},
   "outputs": [
    {
     "data": {
      "application/vnd.jupyter.widget-view+json": {
       "model_id": "9d14217c0a3e497a953eb91245ec4b1d",
       "version_major": 2,
       "version_minor": 0
      },
      "text/plain": [
       "interactive(children=(FloatSlider(value=0.1, description='I_ext', step=10.0), Output()), _dom_classes=('widget…"
      ]
     },
     "metadata": {},
     "output_type": "display_data"
    },
    {
     "data": {
      "application/vnd.jupyter.widget-view+json": {
       "model_id": "e17cc60b3348423b84ab33e11c45fe74",
       "version_major": 2,
       "version_minor": 0
      },
      "text/plain": [
       "Button(description='Save Plot', style=ButtonStyle())"
      ]
     },
     "metadata": {},
     "output_type": "display_data"
    }
   ],
   "source": [
    "interact(\n",
    "    interactive_plot,\n",
    "    I_ext = FloatSlider(\n",
    "        value = params['I_ext'],\n",
    "        min = 0,\n",
    "        max = 100,\n",
    "        step = 10))\n",
    "\n",
    "save_button = Button(description=\"Save Plot\")\n",
    "save_button.on_click(lambda b: save_plot())\n",
    "display(save_button)"
   ]
  }
 ],
 "metadata": {
  "kernelspec": {
   "display_name": "virtual",
   "language": "python",
   "name": "python3"
  },
  "language_info": {
   "codemirror_mode": {
    "name": "ipython",
    "version": 3
   },
   "file_extension": ".py",
   "mimetype": "text/x-python",
   "name": "python",
   "nbconvert_exporter": "python",
   "pygments_lexer": "ipython3",
   "version": "3.12.10"
  }
 },
 "nbformat": 4,
 "nbformat_minor": 2
}
